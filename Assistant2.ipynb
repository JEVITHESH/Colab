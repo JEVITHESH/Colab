{
  "nbformat": 4,
  "nbformat_minor": 0,
  "metadata": {
    "colab": {
      "provenance": [],
      "authorship_tag": "ABX9TyNnf0bFzB8KPAjCv4h7PCgi",
      "include_colab_link": true
    },
    "kernelspec": {
      "name": "python3",
      "display_name": "Python 3"
    },
    "language_info": {
      "name": "python"
    }
  },
  "cells": [
    {
      "cell_type": "markdown",
      "metadata": {
        "id": "view-in-github",
        "colab_type": "text"
      },
      "source": [
        "<a href=\"https://colab.research.google.com/github/JEVITHESH/Colab/blob/main/Assistant2.ipynb\" target=\"_parent\"><img src=\"https://colab.research.google.com/assets/colab-badge.svg\" alt=\"Open In Colab\"/></a>"
      ]
    },
    {
      "cell_type": "code",
      "execution_count": null,
      "metadata": {
        "colab": {
          "base_uri": "https://localhost:8080/"
        },
        "id": "YYWYdRFdmHD7",
        "outputId": "ffdfb4f9-2df2-484d-c469-2a8d8d9af076"
      },
      "outputs": [
        {
          "output_type": "stream",
          "name": "stdout",
          "text": [
            "Ascending Order: [2, 3, 4, 5, 7, 8, 9]\n",
            "Descending Order: [9, 8, 7, 5, 4, 3, 2]\n"
          ]
        }
      ],
      "source": [
        "#4program\n",
        "def ascending(lst):\n",
        "    n = len(lst)\n",
        "    for i in range(n):\n",
        "        for j in range(0, n-i-1):\n",
        "            if lst[j] > lst[j+1]:\n",
        "                lst[j], lst[j+1] = lst[j+1], lst[j]\n",
        "    return lst\n",
        "\n",
        "def descending(lst):\n",
        "    n = len(lst)\n",
        "    for i in range(n):\n",
        "        for j in range(0, n-i-1):\n",
        "            if lst[j] < lst[j+1]:\n",
        "                lst[j], lst[j+1] = lst[j+1], lst[j]\n",
        "    return lst\n",
        "\n",
        "a = [5, 3, 7, 9, 8, 4, 2]\n",
        "ascending_order = ascending(a.copy())\n",
        "descending_order = descending(a.copy())\n",
        "\n",
        "print(\"Ascending Order:\", ascending_order)\n",
        "print(\"Descending Order:\", descending_order)"
      ]
    },
    {
      "cell_type": "code",
      "source": [
        "numbers = [10, 5, 7, 3, 8, 2, 9]\n",
        "largest = numbers[0]\n",
        "smallest = numbers[0]\n",
        "for num in numbers:\n",
        "    if num > largest:\n",
        "        largest = num\n",
        "    if num < smallest:\n",
        "        smallest = num\n",
        "print(\"Largest number:\", largest)\n",
        "print(\"Smallest number:\", smallest)"
      ],
      "metadata": {
        "colab": {
          "base_uri": "https://localhost:8080/",
          "height": 159
        },
        "id": "UZ9YAU7uFSvi",
        "outputId": "ebd1e28e-4f8a-4ef0-b09e-7a5824e40576"
      },
      "execution_count": null,
      "outputs": [
        {
          "output_type": "error",
          "ename": "SyntaxError",
          "evalue": "incomplete input (<ipython-input-1-18ea26f99767>, line 10)",
          "traceback": [
            "\u001b[0;36m  File \u001b[0;32m\"<ipython-input-1-18ea26f99767>\"\u001b[0;36m, line \u001b[0;32m10\u001b[0m\n\u001b[0;31m    print(\"Smallest number:\", smallest\u001b[0m\n\u001b[0m                                      ^\u001b[0m\n\u001b[0;31mSyntaxError\u001b[0m\u001b[0;31m:\u001b[0m incomplete input\n"
          ]
        }
      ]
    },
    {
      "cell_type": "code",
      "source": [
        "# Define a list of numbers\n",
        "numbers = [10, 5, 7, 3, 8, 2, 9]\n",
        "\n",
        "# Initialize variables to store the second largest and second smallest numbers\n",
        "second_largest = float('-inf')\n",
        "largest = float('-inf')\n",
        "second_smallest = float('inf')\n",
        "smallest = float('inf')\n",
        "\n",
        "# Iterate through the list to find the second largest and second smallest numbers\n",
        "for num in numbers:\n",
        "    if num > largest:\n",
        "        second_largest = largest\n",
        "        largest = num\n",
        "    elif num > second_largest and num != largest:\n",
        "        second_largest = num\n",
        "\n",
        "    if num < smallest:\n",
        "        second_smallest = smallest\n",
        "        smallest = num\n",
        "    elif num < second_smallest and num != smallest:\n",
        "        second_smallest = num\n",
        "\n",
        "# Print the second largest and second smallest numbers\n",
        "print(\"Second largest number:\", second_largest)\n",
        "print(\"Second smallest number:\", second_smallest)"
      ],
      "metadata": {
        "id": "ZH5FZZMaGY_w"
      },
      "execution_count": null,
      "outputs": []
    },
    {
      "cell_type": "code",
      "source": [
        "#3program\n",
        "numbers = [1,2,3,4,5,6,7,8,9,10]\n",
        "largest = numbers[0]\n",
        "smallest = numbers[0]\n",
        "for num in numbers:\n",
        "    if num > largest:\n",
        "        largest = num\n",
        "    if num < smallest:\n",
        "        smallest = num\n",
        "print(\"Largest number:\", largest)\n",
        "print(\"Smallest number:\", smallest"
      ],
      "metadata": {
        "id": "H6J7p1J0FuOY"
      },
      "execution_count": null,
      "outputs": []
    },
    {
      "cell_type": "code",
      "source": [
        "#5program\n",
        "a= [45,67,83,24,55,87,77,34]\n",
        "number= 55\n",
        "\n",
        "position = a.index(number)\n",
        "print(\"The position of\", number, \"is:\", position)\n"
      ],
      "metadata": {
        "colab": {
          "base_uri": "https://localhost:8080/"
        },
        "id": "A1yUwrpppHGN",
        "outputId": "76a6abe6-d298-42fc-bc5b-7f4a3141803c"
      },
      "execution_count": null,
      "outputs": [
        {
          "output_type": "stream",
          "name": "stdout",
          "text": [
            "The position of 55 is: 4\n"
          ]
        }
      ]
    },
    {
      "cell_type": "code",
      "source": [
        "#6program\n",
        "keys = ['Ten', 'Twenty', 'Thirty']\n",
        "values = [10, 20, 30]\n",
        "\n",
        "value = {}\n",
        "for i in range(len(keys)):\n",
        "    value.update({keys[i]: values[i]})\n",
        "\n",
        "print(value)\n",
        "\n",
        "\n"
      ],
      "metadata": {
        "colab": {
          "base_uri": "https://localhost:8080/"
        },
        "id": "M-X-VVJuqhVg",
        "outputId": "9b179652-bade-42da-ad82-3721853a3cb3"
      },
      "execution_count": null,
      "outputs": [
        {
          "output_type": "stream",
          "name": "stdout",
          "text": [
            "{'Ten': 10, 'Twenty': 20, 'Thirty': 30}\n"
          ]
        }
      ]
    },
    {
      "cell_type": "code",
      "source": [
        "#7program\n",
        "a = [4, 5, 6, 4, 6, 7, 4, 2, 4, 8, 4]\n",
        "count_dict = {}\n",
        "for num in a:\n",
        "    if num in count_dict:\n",
        "        count_dict[num] += 1\n",
        "    else:\n",
        "        count_dict[num] = 1\n",
        "most_frequent_element = max(count_dict, key=count_dict.get)\n",
        "print(\"Most frequent element:\", most_frequent_element)\n",
        "\n"
      ],
      "metadata": {
        "colab": {
          "base_uri": "https://localhost:8080/"
        },
        "id": "X7wURg1atGDR",
        "outputId": "63c15954-80d2-42c3-b770-54d23efce38b"
      },
      "execution_count": null,
      "outputs": [
        {
          "output_type": "stream",
          "name": "stdout",
          "text": [
            "Most frequent element: 4\n"
          ]
        }
      ]
    },
    {
      "cell_type": "code",
      "source": [
        "input_list = [0, 1, 0, 1, 1, 0, 1, 0, 1, 0]\n",
        "output_list = sorted(input_list)\n",
        "\n",
        "print(output_list)\n"
      ],
      "metadata": {
        "colab": {
          "base_uri": "https://localhost:8080/"
        },
        "id": "30O1gdLxqe5X",
        "outputId": "0ee7af6f-3770-410c-c95d-c52647cdc652"
      },
      "execution_count": null,
      "outputs": [
        {
          "output_type": "stream",
          "name": "stdout",
          "text": [
            "[0, 0, 0, 0, 0, 1, 1, 1, 1, 1]\n"
          ]
        }
      ]
    },
    {
      "cell_type": "code",
      "source": [
        "#9program\n",
        "def rupee_to_dollar(amount):\n",
        "    return amount / 83.51\n",
        "\n",
        "def celsius_to_fahrenheit(celsius):\n",
        "    return (celsius * 9/5) + 32\n",
        "\n",
        "def calculate_bmi(weight_kg, height_m):\n",
        "    return weight_kg / (height_m ** 2)\n",
        "\n",
        "def calculate_simple_interest(principal, rate, time):\n",
        "    return (principal * rate * time) / 100\n",
        "\n",
        "rupees = 1000\n",
        "dollars = rupee_to_dollar(rupees)\n",
        "print(f\"{rupees} INR is equal to {dollars:.2f} USD\")\n",
        "\n",
        "#Celsius to Fahrenheit\n",
        "celsius_temp = 30\n",
        "fahrenheit_temp = celsius_to_fahrenheit(celsius_temp)\n",
        "print(f\"{celsius_temp}°C is equal to {fahrenheit_temp:.2f}°F\")\n",
        "\n",
        "#BMI\n",
        "weight = 75  # in kilograms\n",
        "height = 1.75  # in meters\n",
        "bmi = calculate_bmi(weight, height)\n",
        "print(f\"The BMI is: {bmi:.2f}\")\n",
        "\n",
        "# Simple Interest\n",
        "principal_amount = 1000\n",
        "rate_of_interest = 5\n",
        "time_period = 2\n",
        "simple_interest = calculate_simple_interest(principal_amount, rate_of_interest, time_period)\n",
        "print(f\"The simple interest is: {simple_interest}\")\n",
        "\n"
      ],
      "metadata": {
        "colab": {
          "base_uri": "https://localhost:8080/"
        },
        "id": "aAfhDVePvQby",
        "outputId": "f7f15698-9b2f-4296-ac43-0ad2e605cd91"
      },
      "execution_count": null,
      "outputs": [
        {
          "output_type": "stream",
          "name": "stdout",
          "text": [
            "1000 INR is equal to 13.40 USD\n",
            "30°C is equal to 86.00°F\n",
            "The BMI is: 24.49\n",
            "The simple interest is: 100.0\n"
          ]
        }
      ]
    },
    {
      "cell_type": "code",
      "source": [
        "a=[\"A\",\"B\",\"C\",\"n\"]\n",
        "c=[0,0,0,0]\n",
        "v=['a','b','c','d','e','f','g','h','i','j']\n",
        "aa=[]\n",
        "bb=[]\n",
        "cc=[]\n",
        "n=[]\n",
        "bruh=[aa,bb,cc,n]\n",
        "print(\"To vote A press 1\\nTo vote B press 2\\nTo vote C press 3\\nTo vote none press 4\")\n",
        "for i in v:\n",
        "  w=int(input(f\"Please make ur vote {i} :\"))\n",
        "  if(w==1):\n",
        "    aa.append(i)\n",
        "    c[0]+=1\n",
        "  elif(w==2):\n",
        "    bb.append(i)\n",
        "    c[1]+=1\n",
        "  elif(w==3):\n",
        "    cc.append(i)\n",
        "  elif(w==4):\n",
        "    n.append(i)\n",
        "  else:\n",
        "    print(\"Make sure u Enter crt option next time :)\")\n",
        "m=0\n",
        "for i in range(4):\n",
        "  if(m<c[i]):\n",
        "    m=c[i]\n",
        "for i in range(4):\n",
        "  if(m==c[i]):\n",
        "    print(\"The winner is\",a[i],\"with\",c[i],\"votes\")\n",
        "    print(bruh[i])\n",
        "    c[i]=0\n",
        "    break\n",
        "sm=0\n",
        "for i in range(4):\n",
        "  if(sm<c[i]):\n",
        "    sm=c[i]\n",
        "for i in range(4):\n",
        "  if(sm==c[i]):\n",
        "    print(\"The Runner is\",a[i],\"with\",c[i],\"votes\")\n",
        "    print(bruh[i])"
      ],
      "metadata": {
        "colab": {
          "base_uri": "https://localhost:8080/"
        },
        "id": "IgTV4hFk0-2g",
        "outputId": "b67d8b93-2714-4334-cbb7-c701ba39f47e"
      },
      "execution_count": null,
      "outputs": [
        {
          "output_type": "stream",
          "name": "stdout",
          "text": [
            "To vote A press 1\n",
            "To vote B press 2\n",
            "To vote C press 3\n",
            "To vote none press 4\n"
          ]
        }
      ]
    }
  ]
}